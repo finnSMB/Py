{
 "cells": [
  {
   "cell_type": "code",
   "execution_count": null,
   "metadata": {},
   "outputs": [],
   "source": []
  }
 ],
 "metadata": {
  "kernelspec": {
   "display_name": "Python 3.10.2 64-bit",
   "language": "python",
   "name": "python3"
  },
  "language_info": {
   "name": "python",
   "version": "3.10.2"
  },
  "orig_nbformat": 4,
  "vscode": {
   "interpreter": {
    "hash": "55d175bfb5db6861affb24512059db16f2ba60813492d35418f15f0ea153ec3e"
   }
  }
 },
 "nbformat": 4,
 "nbformat_minor": 2
}
